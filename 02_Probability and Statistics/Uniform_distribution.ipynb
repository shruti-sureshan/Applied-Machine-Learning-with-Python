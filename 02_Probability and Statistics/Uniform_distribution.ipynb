{
  "nbformat": 4,
  "nbformat_minor": 0,
  "metadata": {
    "colab": {
      "name": "Uniform distribution.ipynb",
      "provenance": [],
      "collapsed_sections": []
    },
    "kernelspec": {
      "display_name": "Python 3",
      "language": "python",
      "name": "python3"
    }
  },
  "cells": [
    {
      "cell_type": "markdown",
      "metadata": {
        "id": "VkOOg33M2iJp"
      },
      "source": [
        "# Random Number Generator (Uniform Distribution)\n"
      ]
    },
    {
      "cell_type": "code",
      "metadata": {
        "id": "0rPnWXup2iJq",
        "colab": {
          "base_uri": "https://localhost:8080/"
        },
        "outputId": "eb9c98b9-e8e0-43d3-f806-87f4cb94adca"
      },
      "source": [
        "import random\n",
        "print(random.random())"
      ],
      "execution_count": 5,
      "outputs": [
        {
          "output_type": "stream",
          "name": "stdout",
          "text": [
            "0.834591505150669\n"
          ]
        }
      ]
    },
    {
      "cell_type": "code",
      "metadata": {
        "id": "QPzivAyl2iJw",
        "colab": {
          "base_uri": "https://localhost:8080/"
        },
        "outputId": "521224ec-4b97-43af-d8d4-94321db00265"
      },
      "source": [
        "#load IRIS dataset with 150 points.\n",
        "from sklearn import datasets\n",
        "iris = datasets.load_iris()\n",
        "d = iris.data\n",
        "d.shape\n",
        "print(d[0])"
      ],
      "execution_count": 6,
      "outputs": [
        {
          "output_type": "stream",
          "name": "stdout",
          "text": [
            "[5.1 3.5 1.4 0.2]\n"
          ]
        }
      ]
    },
    {
      "cell_type": "code",
      "metadata": {
        "id": "ZRP6Getl2iJz",
        "colab": {
          "base_uri": "https://localhost:8080/"
        },
        "outputId": "4b19d658-8dab-4ff0-bca9-57b6960b4860"
      },
      "source": [
        "# Sample 30 points randomly from the 150 point dataset\n",
        "n=150\n",
        "m=30\n",
        "p = m/n\n",
        "print(p)\n",
        "sampled_data =[];\n",
        "\n",
        "for i in range(0,n):\n",
        "  a = random.random()\n",
        "#   print(a)\n",
        "  if  a <= p:\n",
        "    sampled_data.append(d[i,:])\n",
        "    \n",
        "print(sampled_data)"
      ],
      "execution_count": 7,
      "outputs": [
        {
          "output_type": "stream",
          "name": "stdout",
          "text": [
            "0.2\n",
            "[array([5.1, 3.5, 1.4, 0.2]), array([5.4, 3.9, 1.7, 0.4]), array([5. , 3.4, 1.6, 0.4]), array([5.2, 3.5, 1.5, 0.2]), array([4.8, 3.1, 1.6, 0.2]), array([5.5, 4.2, 1.4, 0.2]), array([5. , 3.2, 1.2, 0.2]), array([5.1, 3.4, 1.5, 0.2]), array([4.6, 3.2, 1.4, 0.2]), array([6.4, 3.2, 4.5, 1.5]), array([6.5, 2.8, 4.6, 1.5]), array([6.6, 2.9, 4.6, 1.3]), array([5. , 2. , 3.5, 1. ]), array([6.1, 2.9, 4.7, 1.4]), array([5.6, 2.5, 3.9, 1.1]), array([6.1, 2.8, 4. , 1.3]), array([6.3, 2.5, 4.9, 1.5]), array([6.1, 2.8, 4.7, 1.2]), array([6.4, 2.9, 4.3, 1.3]), array([5.8, 2.7, 3.9, 1.2]), array([6.7, 3.1, 4.7, 1.5]), array([5.5, 2.6, 4.4, 1.2]), array([6.3, 3.3, 6. , 2.5]), array([6.3, 2.9, 5.6, 1.8]), array([6.5, 3. , 5.8, 2.2]), array([6.5, 3. , 5.5, 1.8]), array([6.4, 2.8, 5.6, 2.1]), array([7.4, 2.8, 6.1, 1.9]), array([6.3, 2.8, 5.1, 1.5])]\n"
          ]
        }
      ]
    },
    {
      "cell_type": "code",
      "metadata": {
        "id": "V3qBMtCls3xP"
      },
      "source": [
        ""
      ],
      "execution_count": 7,
      "outputs": []
    }
  ]
}